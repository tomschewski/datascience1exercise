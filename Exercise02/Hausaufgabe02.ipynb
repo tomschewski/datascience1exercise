{
 "cells": [
  {
   "cell_type": "markdown",
   "id": "93cff492-b993-4b0d-a70b-13c52a25a17f",
   "metadata": {},
   "source": [
    "## Hausaufgabe 2 \n",
    "\n",
    "### Abgage via studip bis spätestens 08.05. 12:00 Uhr (zur VL)! \n",
    "### Verteidigung 11.05. 08:00-10:00 Uhr (Timeslots werden vorher bekannt gegeben)!\n",
    "\n",
    "\n",
    "- In jedem Blatt kann maximal 5% Bonus erreicht werden, falls:\n",
    "    - Mind. 60% des Arbeitsblatts korrekt bearbeitet wurde und\n",
    "    - das Arbeitsblatt erfolgreich verteidigt (den Tutoren erklärt) wurde.\n",
    "    - Bonus % = 5% * Teil der Hausaufgabe erfolgreich verteidigt\n",
    "    - Erfolgreiche Verteidigung: Ein von uns ausgewähltes Team-Mitglied erklärt die Lösung und beantwortet Fragen dazu.\n",
    "    - ChatGPT und andere Hilfsmittel dürfen verwendet werden, müssen aber zitiert werden.\n",
    "    - Code muss ohne Hilfsmittel erläutert werden\n",
    "- Wir bewerten nicht nur die Korrektheit der Ergebnisse, sondern auch ob der Code effizient, einfach zu verstehen, aufgeräumt und gut dokumentiert ist.\n",
    "- Geben Sie eine Lösung pro Gruppe ab und packen Sie Ihre Lösung in eine Zip-Datei mit dem Namen und Matrikelnummer eines Mitglieds. Also z.B. `mustermann_12345678.zip` "
   ]
  },
  {
   "cell_type": "markdown",
   "id": "6a89ae56-4d82-4486-ab4d-053c537e614d",
   "metadata": {},
   "source": [
    "\n",
    "Installatieren Sie (falls nicht vorhanden) den bash-kernel durch: `pip install bash_kernel ; python -m bash_kernel.install`"
   ]
  },
  {
   "cell_type": "markdown",
   "id": "88a1ce2f-002b-4808-980f-b820ae4880c7",
   "metadata": {},
   "source": [
    "_________"
   ]
  },
  {
   "cell_type": "markdown",
   "id": "9ff8bfe9-f1a8-474f-8f6c-c9d78269b08e",
   "metadata": {},
   "source": [
    "\n",
    "In dieser Aufgabe ist das Ziel ein durch einzelne kurze Skripts einen Text zu bearbeiten sodass dieser anschließend einfacher zu verwenden ist (z.B. für Data-Science Anwendungen)"
   ]
  },
  {
   "cell_type": "markdown",
   "id": "bdb4b2f2-fa60-40ae-a990-a1bc1fd35ded",
   "metadata": {},
   "source": [
    "Der Text den wir im Folgenden bearbeiten werden ist das Deutsche Grundgesetz. "
   ]
  },
  {
   "cell_type": "markdown",
   "id": "62dd260d-5f9e-4479-b600-148d24122dd3",
   "metadata": {},
   "source": [
    "## 1 a)  [2,5%]"
   ]
  },
  {
   "cell_type": "markdown",
   "id": "a70f8b74-7a10-4887-b598-4976c2d072e8",
   "metadata": {},
   "source": [
    "Erstellen Sie einen neuen Ordner und laden Sie den Text herunter den Sie unter folgender Adresse finden: https://raw.githubusercontent.com/levinalex/deutsche_verfassungen/master/grundgesetz/grundgesetz.txt "
   ]
  },
  {
   "cell_type": "code",
   "execution_count": 3,
   "id": "4cf7ec97",
   "metadata": {
    "tags": [],
    "vscode": {
     "languageId": "shellscript"
    }
   },
   "outputs": [],
   "source": [
    "mkdir gesetze"
   ]
  },
  {
   "cell_type": "code",
   "execution_count": 5,
   "id": "61b302bf-fb13-4d7c-a5d0-e5289e4f2213",
   "metadata": {
    "tags": []
   },
   "outputs": [
    {
     "name": "stdout",
     "output_type": "stream",
     "text": [
      "bash: cd: gesetze: No such file or directory\n"
     ]
    },
    {
     "ename": "",
     "evalue": "1",
     "output_type": "error",
     "traceback": []
    }
   ],
   "source": [
    "cd gesetze"
   ]
  },
  {
   "cell_type": "code",
   "execution_count": 6,
   "id": "26c6db8b-bd31-4635-a95d-3f68620f37cd",
   "metadata": {
    "tags": []
   },
   "outputs": [
    {
     "name": "stdout",
     "output_type": "stream",
     "text": [
      "--2023-05-05 15:14:02--  https://raw.githubusercontent.com/levinalex/deutsche_verfassungen/master/grundgesetz/grundgesetz.txt\n",
      "Resolving raw.githubusercontent.com (raw.githubusercontent.com)... 185.199.109.133, 185.199.111.133, 185.199.108.133, ...\n",
      "Connecting to raw.githubusercontent.com (raw.githubusercontent.com)|185.199.109.133|:443... connected.\n",
      "HTTP request sent, awaiting response... 200 OK\n",
      "Length: 146482 (143K) [text/plain]\n",
      "Saving to: ‘grundgesetz.txt’\n",
      "\n",
      "grundgesetz.txt     100%[===================>] 143.05K  --.-KB/s    in 0.01s   \n",
      "\n",
      "2023-05-05 15:14:02 (11.3 MB/s) - ‘grundgesetz.txt’ saved [146482/146482]\n",
      "\n"
     ]
    }
   ],
   "source": [
    "wget https://raw.githubusercontent.com/levinalex/deutsche_verfassungen/master/grundgesetz/grundgesetz.txt"
   ]
  },
  {
   "cell_type": "markdown",
   "id": "c944b26c-796f-4640-ab5b-b1d26e39d41e",
   "metadata": {},
   "source": [
    "## 1 b) [10%]\n",
    "Der Text hat eine klare Struktur. Aber am Anfang findet sich ein Stück Text welches nicht in diese Struktur passt. Schreiben Sie ein einzeiliges Skript welches alles vor dem Start der Auflistung der Artikel (und Kapitel) aus dem Text löscht. Speichern Sie die Ausgabe in einer neuen Datei. \n",
    "Stellen Sie sicher dass Ihr Skript auch funktioniert wenn sich der Text am Start ändert!"
   ]
  },
  {
   "cell_type": "code",
   "execution_count": 8,
   "id": "8f496c9f",
   "metadata": {
    "tags": [],
    "vscode": {
     "languageId": "shellscript"
    }
   },
   "outputs": [],
   "source": [
    "sed -n '/^I$/,$p' grundgesetz.txt > output.txt"
   ]
  },
  {
   "cell_type": "markdown",
   "id": "cea6b9eb-4e7a-4819-84be-5ee6cb9e3ccc",
   "metadata": {},
   "source": [
    "## 1 c) [10%]\n",
    "Splitten Sie den Text in einzelne Dateien auf basierend auf den Kapiteln (z.B. \"I Die Grundrechte\") nummerieren Sie die Dateien."
   ]
  },
  {
   "cell_type": "code",
   "execution_count": 9,
   "id": "9529f985-84ce-43e5-8fdf-71a2c75699f2",
   "metadata": {
    "tags": []
   },
   "outputs": [
    {
     "name": "stdout",
     "output_type": "stream",
     "text": [
      "start (takes a few seconds)\n",
      "done\n"
     ]
    }
   ],
   "source": [
    "declare -i countNewLines=4\n",
    "fileName=\"\"\n",
    "nextIsName=false\n",
    "\n",
    "echo \"start (takes a few seconds)\"\n",
    "\n",
    "# Loops through every line\n",
    "# Quote: https://stackoverflow.com/questions/1521462/looping-through-the-content-of-a-file-in-bash\n",
    "while IFS=\"\" read -r line || [ -n \"$line\" ]; do\n",
    "    # If 4 empty lines in a row and next word isnt article -> change file name to chapter heading\n",
    "    # and add the next line to the file name (I Die Grundrechte)\n",
    "    # Otherwise append the line to the current file\n",
    "    if [ $countNewLines -eq 4 ] && [ \"${line:0:8}\" != \"Artikel \" ]; then\n",
    "        fileName=${line}\n",
    "        nextIsName=true\n",
    "    elif [ $nextIsName = true ]; then\n",
    "        fileName=\"$fileName $line\"\n",
    "        nextIsName=false\n",
    "        echo \"$fileName\" >> \"$fileName\".txt\n",
    "    else\n",
    "        echo $line >> \"$fileName\".txt\n",
    "    fi\n",
    "    \n",
    "    # Counts empty in a row\n",
    "    if [ \"$line\" = \"\" ]; then\n",
    "        countNewLines+=1\n",
    "    else\n",
    "        countNewLines=0\n",
    "    fi\n",
    "done < output.txt\n",
    "\n",
    "echo \"done\""
   ]
  },
  {
   "cell_type": "markdown",
   "id": "9062180c-82cf-427a-b0a8-7db677df12ac",
   "metadata": {
    "tags": []
   },
   "source": [
    "## 1 d) [30%]\n",
    "Splitten Sie jedes Kapitel in die einzelnen Artikel auf. Jeder Artikel soll in einer eigenen Datei sein welche die Nummer des Artikels als Dateinamen. Erstellen Sie für jedes Kapitel einen neuen Unterordner in dem die Artikel gesammelt werden."
   ]
  },
  {
   "cell_type": "code",
   "execution_count": 10,
   "id": "dda43a85-a3ef-4376-91eb-63a08f84a76d",
   "metadata": {
    "tags": []
   },
   "outputs": [
    {
     "name": "stdout",
     "output_type": "stream",
     "text": [
      "start (takes a few seconds)\n",
      "done\n"
     ]
    }
   ],
   "source": [
    "#!/bin/bash\n",
    "declare -i countNewLine=4\n",
    "# Variable needed to know at what point to start writing to file after new chapter\n",
    "declare -i countNewChap=0\n",
    "dir=\"\"\n",
    "fileName=\"\"\n",
    "\n",
    "echo \"start (takes a few seconds)\"\n",
    "\n",
    "# Loops through every line\n",
    "# Quote: https://stackoverflow.com/questions/1521462/looping-through-the-content-of-a-file-in-bash\n",
    "while IFS=\"\" read -r line || [ -n \"$line\" ]; do\n",
    "    # If first part of line is \"Article \" and it is short -> change file name to new article\n",
    "    # If 4 empty lines in a row -> save line in variable \"dir\" and add next line to it, then create new dir\n",
    "    if [ \"${line:0:8}\" = \"Artikel \" ] && [ ${#line} -lt 20 ]; then\n",
    "        fileName=$line\n",
    "    elif [ $countNewChap -eq 1 ]; then\n",
    "        dir=\"$dir $line\"\n",
    "        mkdir \"$dir\"\n",
    "    elif [ $countNewLine -eq 4 ]; then\n",
    "        dir=$line\n",
    "        countNewChap=0\n",
    "    fi\n",
    "    \n",
    "    # If articles started and chapter heading ended\n",
    "    if [ $countNewChap -gt 2 ]; then\n",
    "        echo $line >> \"$dir/$fileName\".txt\n",
    "    fi\n",
    "    \n",
    "    # Counts new lines in a row\n",
    "    if [ \"$line\" = \"\" ]; then\n",
    "        countNewLine+=1\n",
    "    else\n",
    "        countNewLine=0\n",
    "    fi\n",
    "    \n",
    "    countNewChap+=1\n",
    "done < output.txt\n",
    "\n",
    "echo \"done\""
   ]
  },
  {
   "cell_type": "markdown",
   "id": "a31a8bd9-912e-4b77-894c-74bba797cdfd",
   "metadata": {},
   "source": [
    "## 1 e) [5%]\n",
    "Löschen Sie die ursprünglichen Daten und die Daten welche Sie im Verlauf des Prozesses (abgesehen von 1d)) generiert haben. Am Ende sollen nur noch die Dateien zu den einzelnen Artikel (in getrennten Ordnern) vorhanden sein.  "
   ]
  },
  {
   "cell_type": "code",
   "execution_count": 11,
   "id": "371bf163",
   "metadata": {
    "tags": []
   },
   "outputs": [],
   "source": [
    "rm *.txt"
   ]
  },
  {
   "cell_type": "markdown",
   "id": "07fe1e5b-805e-40ad-b28a-2d26553ba710",
   "metadata": {},
   "source": [
    "## 1 f) [2,5%]\n",
    "Packen Sie den Inhalt des gesamten Ordners in komprimiertes tar-Archiv."
   ]
  },
  {
   "cell_type": "code",
   "execution_count": null,
   "id": "bdcc0ee5-e5d1-4fe6-a804-6c1582c39e8c",
   "metadata": {
    "tags": []
   },
   "outputs": [],
   "source": [
    "cd ~\n",
    "ls"
   ]
  },
  {
   "cell_type": "code",
   "execution_count": null,
   "id": "83b3476e",
   "metadata": {
    "tags": []
   },
   "outputs": [],
   "source": [
    "tar -czvf grundgesetz.tar.gz gesetze"
   ]
  },
  {
   "cell_type": "markdown",
   "id": "ef3bbe6b-21bd-47a8-9d74-1c13e3453c8d",
   "metadata": {
    "vscode": {
     "languageId": "shellscript"
    }
   },
   "source": [
    "## 2 a) [20%]\n",
    "Schreiben Sie ein Shell-Skript, dass alle x Sekunden ausgibt ob ein durch eine PID identifizierter Prozess läuft oder nicht.\n",
    "Übergeben Sie die Anzahl an Sekunden und die PID als Parameter an das Skript, sodass es wie folgt aufgerufen werden kann:\n",
    "\n",
    "```bash\n",
    "$ script [PID] [SECONDS]\n",
    "```\n",
    "Ihnen sind keine Einschränkungen gegeben, welche Befehle Sie dafür verwenden.\n",
    "\n",
    "**Nützliche Befehle:** `grep`,`ps`"
   ]
  },
  {
   "cell_type": "code",
   "execution_count": 51,
   "id": "966dd674-2e8f-4984-b10f-4b2de6e5803f",
   "metadata": {
    "tags": []
   },
   "outputs": [
    {
     "name": "stdout",
     "output_type": "stream",
     "text": [
      "    PID TTY          TIME CMD\n",
      " 101057 pts/0    00:00:00 bash\n",
      " 102103 pts/0    00:00:00 ps\n"
     ]
    }
   ],
   "source": [
    "ps"
   ]
  },
  {
   "cell_type": "code",
   "execution_count": 54,
   "id": "4aec7dee-9140-4233-aee2-ae8f98622e54",
   "metadata": {},
   "outputs": [
    {
     "name": "stdout",
     "output_type": "stream",
     "text": [
      "Running\n",
      "\n"
     ]
    }
   ],
   "source": [
    "chmod +x processinfo.sh\n",
    "./processinfo.sh 101057 10"
   ]
  },
  {
   "cell_type": "markdown",
   "id": "623c7c5d-0f24-4e65-acf9-499164214986",
   "metadata": {
    "tags": []
   },
   "source": [
    "## 2 b) [20%]\n",
    "Schreiben Sie ein Shell-Skript, das die Verzeichnisstruktur eines als Parameter angegebenen Verzeichnisses auflisten kann. Schreiben Sie dazu eine rekursive Funktion, die in Unterverzeichnisse herabsteigt. \n",
    "Geben Sie das Verzeichnis und die Dateien auf dem Bildschirm aus. \n",
    "Nutzen Sie Einrückungen um die Zugehörigkeit von Dateien und Verzeichnissen zueinander zu kennzeichnen. \n",
    "Dies kann dann zum Beispiel so aussehen:\n",
    "\n",
    "```\n",
    "File: linux-3.14/COPYING\n",
    "File: linux-3.14/CREDITS\n",
    "Directory: linux-3.14/Documentation\n",
    "    File: linux-3.14/Documentation/00-INDEX \n",
    "    Directory: linux-3.14/Documentation/ABI\n",
    "        File: linux-3.14/Documentation/ABI/README \n",
    "        Directory: linux-3.14/Documentation/ABI/obsolete        \n",
    "            File: linux-3.14/Documentation/ABI/obsolete/proc-sys-vm-nr_pdflush_threads \n",
    "            File: linux-3.14/Documentation/ABI/obsolete/sysfs-bus-usb\n",
    "            File: linux-3.14/Documentation/ABI/obsolete/sysfs-class-rfkill\n",
    "            File: linux-3.14/Documentation/ABI/obsolete/sysfs-driver-hid-roccat-koneplus \n",
    "            File: linux-3.14/Documentation/ABI/obsolete/sysfs-driver-hid-roccat-kovaplus \n",
    "            File: linux-3.14/Documentation/ABI/obsolete/sysfs-driver-hid-roccat-pyra\n",
    "        Directory: linux-3.14/Documentation/ABI/removed \n",
    "            File: linux-3.14/Documentation/ABI/removed/devfs \n",
    "            File: linux-3.14/Documentation/ABI/removed/dv1394\n",
    "...\n",
    "\n",
    "```\n",
    "\n",
    "**Hinweis:** es ist möglich, in der bash Funktionen zu definieren. Die Syntax finden Sie z.B. hier: http://tldp.org/LDP/abs/html/functions.html\n",
    "\n",
    "**Nützliche Befehle:** `find`,`printf`"
   ]
  },
  {
   "cell_type": "code",
   "execution_count": null,
   "id": "a4c04838-8d00-492e-8687-45071724d434",
   "metadata": {},
   "outputs": [],
   "source": []
  },
  {
   "cell_type": "code",
   "execution_count": null,
   "id": "c8cc80f7-1500-47d3-91e5-5231ba844a5f",
   "metadata": {},
   "outputs": [],
   "source": []
  }
 ],
 "metadata": {
  "kernelspec": {
   "display_name": "Bash",
   "language": "bash",
   "name": "bash"
  },
  "language_info": {
   "codemirror_mode": "shell",
   "file_extension": ".sh",
   "mimetype": "text/x-sh",
   "name": "bash"
  },
  "vscode": {
   "interpreter": {
    "hash": "8fa2a39dc98f14384214061e3a8c32603dbb899665817f3de4b9ccce2b523a71"
   }
  }
 },
 "nbformat": 4,
 "nbformat_minor": 5
}
